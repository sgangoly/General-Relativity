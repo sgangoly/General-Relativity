{
  "nbformat": 4,
  "nbformat_minor": 0,
  "metadata": {
    "colab": {
      "name": "GW_CH03ipynb",
      "provenance": [],
      "authorship_tag": "ABX9TyNs8KEUzDCEeqW/dNZCXY5f",
      "include_colab_link": true
    },
    "kernelspec": {
      "name": "python3",
      "display_name": "Python 3"
    }
  },
  "cells": [
    {
      "cell_type": "markdown",
      "metadata": {
        "id": "view-in-github",
        "colab_type": "text"
      },
      "source": [
        "<a href=\"https://colab.research.google.com/github/sgangoly/General-Relativity/blob/master/LIGO_GW/GW_CH03.ipynb\" target=\"_parent\"><img src=\"https://colab.research.google.com/assets/colab-badge.svg\" alt=\"Open In Colab\"/></a>"
      ]
    },
    {
      "cell_type": "code",
      "metadata": {
        "id": "k_-KbQ5tF1CX",
        "colab_type": "code",
        "colab": {}
      },
      "source": [
        "! pip install -q 'lalsuite==6.66' 'PyCBC==1.15.3'\n",
        "! pip install -q lalsuite\n",
        "! pip install -q gwpy\n",
        "! pip install -q pycbc\n"
      ],
      "execution_count": 0,
      "outputs": []
    },
    {
      "cell_type": "markdown",
      "metadata": {
        "id": "WqXt-n0MVgSJ",
        "colab_type": "text"
      },
      "source": [
        ""
      ]
    },
    {
      "cell_type": "code",
      "metadata": {
        "id": "huyd_-3bGVk_",
        "colab_type": "code",
        "colab": {}
      },
      "source": [
        "%matplotlib inline\n",
        "import numpy\n",
        "import pylab\n",
        "from pycbc.waveform import get_td_waveform\n",
        "import pycbc.noise\n",
        "import pycbc.psd\n",
        "from pycbc.catalog import Merger\n",
        "from pycbc.filter import highpass_fir, matched_filter\n",
        "from pycbc.psd import welch, interpolate"
      ],
      "execution_count": 0,
      "outputs": []
    },
    {
      "cell_type": "code",
      "metadata": {
        "id": "GdwkKPq4KENh",
        "colab_type": "code",
        "colab": {
          "base_uri": "https://localhost:8080/",
          "height": 202
        },
        "outputId": "410e7c98-d234-4442-c5e1-5b9f296ec3d8"
      },
      "source": [
        "# -- download data\n",
        "! wget https://www.gw-openscience.org/s/workshop3/challenge/challenge3.gwf"
      ],
      "execution_count": 2,
      "outputs": [
        {
          "output_type": "stream",
          "text": [
            "--2020-06-04 17:04:32--  https://www.gw-openscience.org/s/workshop3/challenge/challenge3.gwf\n",
            "Resolving www.gw-openscience.org (www.gw-openscience.org)... 131.215.113.73\n",
            "Connecting to www.gw-openscience.org (www.gw-openscience.org)|131.215.113.73|:443... connected.\n",
            "HTTP request sent, awaiting response... 200 OK\n",
            "Length: 256815066 (245M)\n",
            "Saving to: ‘challenge3.gwf.1’\n",
            "\n",
            "challenge3.gwf.1    100%[===================>] 244.92M  97.1MB/s    in 2.5s    \n",
            "\n",
            "2020-06-04 17:04:35 (97.1 MB/s) - ‘challenge3.gwf.1’ saved [256815066/256815066]\n",
            "\n"
          ],
          "name": "stdout"
        }
      ]
    },
    {
      "cell_type": "code",
      "metadata": {
        "id": "TcCytQYaKR7z",
        "colab_type": "code",
        "colab": {
          "base_uri": "https://localhost:8080/",
          "height": 151
        },
        "outputId": "0448d2a2-fbe2-4e2a-ecc3-11ec4266a85d"
      },
      "source": [
        "from gwpy.timeseries import TimeSeries\n",
        "ts1 = TimeSeries.read('challenge3.gwf', channel=\"H1:CHALLENGE3\")\n",
        "print (ts1)"
      ],
      "execution_count": 3,
      "outputs": [
        {
          "output_type": "stream",
          "text": [
            "TimeSeries([-3.04517369e-19, -3.35465069e-19, -3.35210566e-19,\n",
            "            ...,  4.46471052e-19,  5.07624678e-19,\n",
            "             4.98623016e-19]\n",
            "           unit: ct,\n",
            "           t0: 0.0 s,\n",
            "           dt: 0.000244140625 s,\n",
            "           name: H1:CHALLENGE3,\n",
            "           channel: H1:CHALLENGE3)\n"
          ],
          "name": "stdout"
        }
      ]
    },
    {
      "cell_type": "code",
      "metadata": {
        "id": "Vn9geqMGKWv7",
        "colab_type": "code",
        "colab": {
          "base_uri": "https://localhost:8080/",
          "height": 50
        },
        "outputId": "00921120-c4f4-433e-b1d1-78431d286371"
      },
      "source": [
        "from pycbc import frame\n",
        "pycbc_strain = frame.read_frame('challenge3.gwf', 'H1:CHALLENGE3')\n",
        "pyd = pycbc_strain\n",
        "print(pyd)"
      ],
      "execution_count": 4,
      "outputs": [
        {
          "output_type": "stream",
          "text": [
            "[-3.04517369e-19 -3.35465069e-19 -3.35210566e-19 ...\n",
            "  4.46471052e-19  5.07624678e-19  4.98623016e-19]\n"
          ],
          "name": "stdout"
        }
      ]
    },
    {
      "cell_type": "code",
      "metadata": {
        "id": "W6Qz3OtXRJm7",
        "colab_type": "code",
        "colab": {
          "base_uri": "https://localhost:8080/",
          "height": 304
        },
        "outputId": "d2384f88-d2df-49e4-db37-6e8e51591f84"
      },
      "source": [
        "pylab.plot(pyd.sample_times, ts1)\n",
        "pylab.xlabel('Time (s)')\n",
        "pylab.show()"
      ],
      "execution_count": 5,
      "outputs": [
        {
          "output_type": "display_data",
          "data": {
            "image/png": "[encoded data removed]",
            "text/plain": [
              "<Figure size 432x288 with 1 Axes>"
            ]
          },
          "metadata": {
            "tags": [],
            "needs_background": "light"
          }
        }
      ]
    },
    {
      "cell_type": "code",
      "metadata": {
        "id": "aWPxo-QISSEr",
        "colab_type": "code",
        "colab": {}
      },
      "source": [
        "from gwpy.timeseries import TimeSeries\n"
      ],
      "execution_count": 0,
      "outputs": []
    },
    {
      "cell_type": "code",
      "metadata": {
        "id": "cLweDsmUTbHh",
        "colab_type": "code",
        "colab": {
          "base_uri": "https://localhost:8080/",
          "height": 304
        },
        "outputId": "d93c30c6-87ea-40df-96b5-d2837949ab0d"
      },
      "source": [
        "from pycbc.catalog import Merger\n",
        "from pycbc.filter import resample_to_delta_t, highpass\n",
        "\n",
        "pyd = highpass(pyd, 15.0)\n",
        "pyd = resample_to_delta_t(pyd, 1.0/2048)\n",
        "\n",
        "pylab.plot(pyd.sample_times, pyd)\n",
        "pylab.xlabel('Time (s)')\n",
        "pylab.show()"
      ],
      "execution_count": 10,
      "outputs": [
        {
          "output_type": "display_data",
          "data": {
            "image/png": "[encoded data removed]",
            "text/plain": [
              "<Figure size 432x288 with 1 Axes>"
            ]
          },
          "metadata": {
            "tags": [],
            "needs_background": "light"
          }
        }
      ]
    },
    {
      "cell_type": "code",
      "metadata": {
        "id": "9hPcpWkBT-nx",
        "colab_type": "code",
        "colab": {
          "base_uri": "https://localhost:8080/",
          "height": 304
        },
        "outputId": "4615fae7-1c30-451f-9bb6-3ed4fdfcd409"
      },
      "source": [
        "conditioned = pyd.crop(5, 5)\n",
        "\n",
        "pylab.plot(conditioned.sample_times, conditioned)\n",
        "pylab.xlabel('Time (s)')\n",
        "pylab.show()"
      ],
      "execution_count": 11,
      "outputs": [
        {
          "output_type": "display_data",
          "data": {
            "image/png": "[encoded data removed]",
            "text/plain": [
              "<Figure size 432x288 with 1 Axes>"
            ]
          },
          "metadata": {
            "tags": [],
            "needs_background": "light"
          }
        }
      ]
    },
    {
      "cell_type": "code",
      "metadata": {
        "id": "b5oxYzz3UMT4",
        "colab_type": "code",
        "colab": {}
      },
      "source": [
        "from pycbc.psd import interpolate, inverse_spectrum_truncation\n",
        "# Estimate the power spectral density\n",
        "\n",
        "# We use 4 second samples of our time series in Welch method.\n",
        "psd = conditioned.psd(4)\n",
        "\n",
        "# Now that we have the psd we need to interpolate it to match our data\n",
        "# and then limit the filter length of 1 / PSD. After this, we can\n",
        "# directly use this PSD to filter the data in a controlled manner\n",
        "psd = interpolate(psd, conditioned.delta_f)\n",
        "\n",
        "# 1/PSD will now act as a filter with an effective length of 4 seconds\n",
        "# Since the data has been highpassed above 15 Hz, and will have low values\n",
        "# below this we need to inform the function to not include frequencies\n",
        "# below this frequency. \n",
        "psd = inverse_spectrum_truncation(psd, 4 * conditioned.sample_rate,\n",
        "                                  low_frequency_cutoff=15)"
      ],
      "execution_count": 0,
      "outputs": []
    },
    {
      "cell_type": "code",
      "metadata": {
        "id": "Abl6gEo0USdJ",
        "colab_type": "code",
        "colab": {
          "base_uri": "https://localhost:8080/",
          "height": 608
        },
        "outputId": "2ef5836f-6f5e-4ba0-abef-1090ff920cab"
      },
      "source": [
        "from pycbc.waveform import get_td_waveform\n",
        "\n",
        "m = 10 # Solar masses\n",
        "hp, hc = get_td_waveform(approximant=\"SEOBNRv4_opt\",\n",
        "                     mass1=m,\n",
        "                     mass2=m,\n",
        "                     delta_t=conditioned.delta_t,\n",
        "                     f_lower=20)\n",
        "\n",
        "# We will resize the vector to match our data\n",
        "hp.resize(len(conditioned))\n",
        "\n",
        "# The waveform begins at the start of the vector, so if we want the\n",
        "# SNR time series to correspond to the approximate merger location\n",
        "# we need to shift the data so that the merger is approximately at the \n",
        "# first bin of the data.\n",
        "\n",
        "# The cyclic_time_shift method shifts the timeseries by a given amount of time.\n",
        "# It treats the data as if it were on a ring so points shifted off the end\n",
        "# of the series reappear at the start. Note that time stamps are *not* in\n",
        "# general affected (as the start time of the full array is shifted),\n",
        "# but the index of each point in the vector is.\n",
        "#\n",
        "# By convention waveforms returned from `get_td_waveform` have their\n",
        "# merger stamped with time zero, so we can use the start time to \n",
        "# shift the merger into position\n",
        "pylab.figure()\n",
        "pylab.title('Before shifting')\n",
        "pylab.plot(hp.sample_times, hp)\n",
        "pylab.xlabel('Time (s)')\n",
        "pylab.ylabel('Strain')\n",
        "\n",
        "template = hp.cyclic_time_shift(hp.start_time)\n",
        "\n",
        "pylab.figure()\n",
        "pylab.title('After shifting')\n",
        "pylab.plot(template.sample_times, template)\n",
        "pylab.xlabel('Time (s)')\n",
        "pylab.ylabel('Strain')"
      ],
      "execution_count": 13,
      "outputs": [
        {
          "output_type": "execute_result",
          "data": {
            "text/plain": [
              "Text(0, 0.5, 'Strain')"
            ]
          },
          "metadata": {
            "tags": []
          },
          "execution_count": 13
        },
        {
          "output_type": "display_data",
          "data": {
            "image/png": "[encoded data removed]",
            "text/plain": [
              "<Figure size 432x288 with 1 Axes>"
            ]
          },
          "metadata": {
            "tags": [],
            "needs_background": "light"
          }
        },
        {
          "output_type": "display_data",
          "data": {
            "image/png": "[encoded data removed]",
            "text/plain": [
              "<Figure size 432x288 with 1 Axes>"
            ]
          },
          "metadata": {
            "tags": [],
            "needs_background": "light"
          }
        }
      ]
    },
    {
      "cell_type": "code",
      "metadata": {
        "id": "4lpM4SVIUgJQ",
        "colab_type": "code",
        "colab": {
          "base_uri": "https://localhost:8080/",
          "height": 307
        },
        "outputId": "40099ac0-0b2d-486d-dd31-d58ddfd006b5"
      },
      "source": [
        "from pycbc.filter import matched_filter\n",
        "import numpy\n",
        "\n",
        "snr = matched_filter(template, conditioned,\n",
        "                     psd=psd, low_frequency_cutoff=20)\n",
        "\n",
        "# Remove time corrupted by the template filter and the psd filter\n",
        "# We remove 4 seonds at the beginning and end for the PSD filtering\n",
        "# And we remove 4 additional seconds at the beginning to account for\n",
        "# the template length (this is somewhat generous for \n",
        "# so short a template). A longer signal such as from a BNS, would \n",
        "# require much more padding at the beginning of the vector.\n",
        "snr = snr.crop(4 + 4, 4)\n",
        "\n",
        "# Why are we taking an abs() here?\n",
        "# The `matched_filter` function actually returns a 'complex' SNR.\n",
        "# What that means is that the real portion correponds to the SNR\n",
        "# associated with directly filtering the template with the data.\n",
        "# The imaginary portion corresponds to filtering with a template that\n",
        "# is 90 degrees out of phase. Since the phase of a signal may be \n",
        "# anything, we choose to maximize over the phase of the signal.\n",
        "pylab.figure(figsize=[10, 4])\n",
        "pylab.plot(snr.sample_times, abs(snr))\n",
        "pylab.ylabel('Signal-to-noise')\n",
        "pylab.xlabel('Time (s)')\n",
        "pylab.show()\n",
        "\n",
        "peak = abs(snr).numpy().argmax()\n",
        "snrp = snr[peak]\n",
        "time = snr.sample_times[peak]\n",
        "\n",
        "print(\"We found a signal at {}s with SNR {}\".format(time, \n",
        "                                                    abs(snrp)))"
      ],
      "execution_count": 14,
      "outputs": [
        {
          "output_type": "display_data",
          "data": {
            "image/png": "[encoded data removed]",
            "text/plain": [
              "<Figure size 720x288 with 1 Axes>"
            ]
          },
          "metadata": {
            "tags": [],
            "needs_background": "light"
          }
        },
        {
          "output_type": "stream",
          "text": [
            "We found a signal at 2483.96728515625s with SNR 28.902582068558456\n"
          ],
          "name": "stdout"
        }
      ]
    }
  ]
}